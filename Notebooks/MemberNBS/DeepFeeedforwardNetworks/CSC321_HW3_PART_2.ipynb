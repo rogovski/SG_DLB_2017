{
 "cells": [
  {
   "cell_type": "markdown",
   "metadata": {},
   "source": [
    "Consider a neural network with N input units, N output units, and K hidden units. The activations are computed as follows:\n",
    "\n",
    "$$\n",
    "\\mathbf{z} = \\mathbf{W}^{(1)} \\mathbf{x} + \\mathbf{b}^{(1)}\n",
    "$$\n",
    "\n",
    "$$\n",
    "\\mathbf{h} = \\sigma (\\mathbf{z})\n",
    "$$\n",
    "\n",
    "\n",
    "$$\n",
    "\\mathbf{y} = \\mathbf{x} + \\mathbf{W}^{(2)} \\mathbf{h} + \\mathbf{b}^{(2)}\n",
    "$$\n",
    "\n",
    "The cost will involve both h and y:\n",
    "\n",
    "$$\n",
    "\\mathcal{E} = \\mathcal{R} + \\mathcal{S}\n",
    "$$\n",
    "\n",
    "$$\n",
    "\\mathcal{R} = \\mathbf{r}^{T} \\mathbf{h}\n",
    "$$\n",
    "\n",
    "$$\n",
    "\\mathcal{S} = \\frac{1}{2} \\lVert \\mathbf{y} - \\mathbf{s} \\rVert^{2}\n",
    "$$\n"
   ]
  },
  {
   "cell_type": "code",
   "execution_count": 1,
   "metadata": {
    "collapsed": true
   },
   "outputs": [],
   "source": [
    "%matplotlib inline\n",
    "\n",
    "import matplotlib.pyplot as plt\n",
    "import numpy as np\n",
    "import networkx as nx"
   ]
  },
  {
   "cell_type": "markdown",
   "metadata": {},
   "source": [
    "### sub problem (1pts)\n",
    "\n",
    "draw the computation graph"
   ]
  },
  {
   "cell_type": "code",
   "execution_count": 2,
   "metadata": {
    "collapsed": false
   },
   "outputs": [
    {
     "data": {
      "image/png": "[encoded data removed]",
      "text/plain": [
       "<matplotlib.figure.Figure at 0x1181c1d50>"
      ]
     },
     "metadata": {},
     "output_type": "display_data"
    }
   ],
   "source": [
    "edges = [\n",
    "    ('x', 'z'),\n",
    "    ('W_1', 'z'),\n",
    "    ('b_1', 'z'),\n",
    "    ('z', 'h'),\n",
    "    ('h', 'y'),\n",
    "    ('h', 'R'),\n",
    "    ('r', 'R'),\n",
    "    ('x', 'y'),\n",
    "    ('W_2', 'y'),\n",
    "    ('b_2', 'y'),\n",
    "    ('y', 'S'),\n",
    "    ('s', 'S'),\n",
    "    ('S', 'E'),\n",
    "    ('R', 'E')\n",
    "]\n",
    "\n",
    "pos = {\n",
    "    'x': np.array([ 0.,  0.6]),\n",
    "    'W_1': np.array([ 0.,  0.4]),\n",
    "    'b_1': np.array([ 0.,  0.2]),\n",
    "    'z': np.array([ 0.2,  0.3]),\n",
    "    'W_2': np.array([ 0.2,  0.7]),\n",
    "    'b_2': np.array([ 0.3,  0.8]),\n",
    "    'h': np.array([ 0.3,  0.3]),\n",
    "    'r': np.array([ 0.3,  0.        ]),\n",
    "    's': np.array([ 0.5,  0.7       ]),\n",
    "    'y': np.array([ 0.5,  0.4]),\n",
    "    'R': np.array([ 0.5,  0.1]),\n",
    "    'S': np.array([ 0.6,  0.4]),\n",
    "    'E': np.array([ 0.7,  0.15 ])\n",
    "}\n",
    "\n",
    "G = nx.DiGraph()\n",
    "G.add_edges_from(edges)\n",
    "nx.draw_networkx_nodes(G, pos, node_size = 500)\n",
    "nx.draw_networkx_labels(G, pos)\n",
    "nx.draw_networkx_edges(G, pos, arrows=True)\n",
    "plt.show()"
   ]
  },
  {
   "cell_type": "markdown",
   "metadata": {},
   "source": [
    "### sub problem (3 pts)\n",
    "\n",
    "Derive the backprop equations for computing $\\mathbf{\\bar{x}}$.\n",
    "\n",
    "#### notes\n",
    "  * [how to](http://cs231n.github.io/optimization-2/#mat) compute gradients on expressions with matrix multiplication.\n",
    "  * $*$ is pointwise multiplication."
   ]
  },
  {
   "cell_type": "markdown",
   "metadata": {},
   "source": [
    "\n",
    "$$\n",
    "\\mathcal{\\bar{E}} = 1\n",
    "$$\n",
    "\n",
    "$$\n",
    "\\mathcal{\\bar{S}} = \n",
    "\\mathcal{\\bar{E}} \\frac{\\partial \\mathcal{E}}{\\partial \\mathcal{S}} =\n",
    "\\mathcal{\\bar{E}}\n",
    "$$\n",
    "\n",
    "$$\n",
    "\\mathcal{\\bar{R}} = \n",
    "\\mathcal{\\bar{E}} \\frac{\\partial \\mathcal{E}}{\\partial \\mathcal{R}} =\n",
    "\\mathcal{\\bar{E}}\n",
    "$$\n",
    "\n",
    "$$\n",
    "\\mathbf{\\bar{y}} = \n",
    "\\mathcal{\\bar{S}} \\frac{\\partial \\mathcal{S}}{\\partial \\mathbf{y}} =\n",
    "\\mathcal{\\bar{S}} (\\mathbf{y} - \\mathbf{s})\n",
    "$$\n",
    "\n",
    "$$\n",
    "\\mathbf{\\bar{h}}_{from \\ \\mathcal{R}} = \n",
    "\\mathbf{r} \\mathcal{\\bar{R}}\n",
    "$$\n",
    "\n",
    "$$\n",
    "\\mathbf{\\bar{h}}_{from \\ \\mathbf{y}} = \n",
    "\\mathbf{\\bar{y}} \\frac{\\partial \\mathbf{y}}{\\partial \\mathbf{h}} =\n",
    "\\mathbf{W}^{(2)T} \\mathbf{\\bar{y}}\n",
    "$$\n",
    "\n",
    "$$\n",
    "\\mathbf{\\bar{h}} = \n",
    "\\mathbf{\\bar{h}}_{from \\ \\mathcal{R}} + \n",
    "\\mathbf{\\bar{h}}_{from \\ \\mathbf{y}} =\n",
    "\\mathbf{r} \\mathcal{\\bar{R}} +\n",
    "\\mathbf{W}^{(2)T} \\mathbf{\\bar{y}}\n",
    "$$\n",
    "\n",
    "$$\n",
    "\\mathbf{\\bar{z}} = \n",
    "\\mathbf{\\bar{h}} \\frac{\\partial \\mathbf{h}}{\\partial \\mathbf{z}} =\n",
    "\\mathbf{\\bar{h}} * (1 - \\mathbf{h}) * \\mathbf{h}\n",
    "$$\n",
    "\n",
    "$$\n",
    "\\mathbf{\\bar{x}}_{from \\ \\mathbf{y}} = \n",
    "\\mathbf{\\bar{y}} \\frac{\\partial \\mathbf{y}}{\\partial \\mathbf{x}} =\n",
    "\\mathbf{\\bar{y}}\n",
    "$$\n",
    "\n",
    "$$\n",
    "\\mathbf{\\bar{x}}_{from \\ \\mathbf{z}} = \n",
    "\\mathbf{\\bar{z}} \\frac{\\partial \\mathbf{z}}{\\partial \\mathbf{x}} =\n",
    "\\mathbf{W}^{(1)T} \\mathbf{\\bar{z}}\n",
    "$$\n",
    "\n",
    "$$\n",
    "\\mathbf{\\bar{x}} =\n",
    "\\mathbf{\\bar{x}}_{from \\ \\mathbf{y}} + \n",
    "\\mathbf{\\bar{x}}_{from \\ \\mathbf{z}} =\n",
    "\\mathbf{\\bar{y}} + \n",
    "\\mathbf{W}^{(1)T} \\mathbf{\\bar{z}}\n",
    "$$"
   ]
  },
  {
   "cell_type": "markdown",
   "metadata": {},
   "source": [
    "the full expression of the gradient is:\n",
    "\n",
    "$$\n",
    "\\mathbf{\\bar{x}} = \n",
    "(\\mathbf{y} - \\mathbf{s}) +\n",
    "\\mathbf{W}^{(1)T}[\n",
    "    [\n",
    "        \\mathbf{r} + \\mathbf{W}^{(2)T}(\\mathbf{y}-\\mathbf{s})\n",
    "    ] \n",
    "    * (1 - \\mathbf{h}) * \\mathbf{h}\n",
    "]\n",
    "$$"
   ]
  }
 ],
 "metadata": {
  "kernelspec": {
   "display_name": "Python 2",
   "language": "python",
   "name": "python2"
  },
  "language_info": {
   "codemirror_mode": {
    "name": "ipython",
    "version": 2
   },
   "file_extension": ".py",
   "mimetype": "text/x-python",
   "name": "python",
   "nbconvert_exporter": "python",
   "pygments_lexer": "ipython2",
   "version": "2.7.13"
  }
 },
 "nbformat": 4,
 "nbformat_minor": 2
}
